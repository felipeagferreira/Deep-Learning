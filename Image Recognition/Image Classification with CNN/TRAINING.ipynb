{
 "cells": [
  {
   "cell_type": "markdown",
   "metadata": {
    "id": "hy0azQCVlCiR"
   },
   "source": [
    "## Feedforward artificial neural network : Image classification\n",
    "The goal of this excercise is to show how to create a neural network using the tensorflow/keras library. We will be using the MNIST dataset.\n",
    "\n",
    "\n",
    "References\n",
    "- https://keras.io/getting-started/sequential-model-guide/\n",
    "- https://keras.io/api/utils/python_utils/#to_categorical-function\n",
    "- https://scikit-learn.org/stable/modules/generated/sklearn.model_selection.train_test_split.html\n",
    "- https://keras.io/api/layers/core_layers/dense/\n",
    "- https://keras.io/api/layers/regularization_layers/dropout/\n",
    "- https://keras.io/api/models/model_training_apis/\n"
   ]
  },
  {
   "cell_type": "markdown",
   "metadata": {
    "id": "qp33aomJmJtl"
   },
   "source": [
    "### Libraries"
   ]
  },
  {
   "cell_type": "code",
   "execution_count": 1,
   "metadata": {
    "executionInfo": {
     "elapsed": 3658,
     "status": "ok",
     "timestamp": 1611959878227,
     "user": {
      "displayName": "Felipe A. Gomes Ferreira",
      "photoUrl": "",
      "userId": "09095471911889500468"
     },
     "user_tz": 180
    },
    "id": "trOyfziVgETH"
   },
   "outputs": [],
   "source": [
    "# Import modules\n",
    "# Add modules as needed\n",
    "from sklearn.datasets import fetch_openml\n",
    "from sklearn.model_selection import train_test_split\n",
    "\n",
    "# For windows laptops add following 2 lines:\n",
    "# import matplotlib\n",
    "# matplotlib.use('agg')\n",
    "\n",
    "import matplotlib.pyplot as plt\n",
    "\n",
    "import tensorflow.keras as keras\n",
    "from tensorflow.keras.models import Sequential\n",
    "from tensorflow.keras.layers import Dense, Dropout"
   ]
  },
  {
   "cell_type": "markdown",
   "metadata": {
    "id": "_ZmZEVmTmQGH"
   },
   "source": [
    "### Data preparation\n",
    "\n",
    "#### Import data"
   ]
  },
  {
   "cell_type": "code",
   "execution_count": 2,
   "metadata": {
    "executionInfo": {
     "elapsed": 23230,
     "status": "ok",
     "timestamp": 1611959906821,
     "user": {
      "displayName": "Felipe A. Gomes Ferreira",
      "photoUrl": "",
      "userId": "09095471911889500468"
     },
     "user_tz": 180
    },
    "id": "0gRy7rVvg_Sl"
   },
   "outputs": [],
   "source": [
    "def load_data():\n",
    "    # Import MNIST dataset from openml\n",
    "    dataset = fetch_openml('mnist_784', version=1, data_home=None)\n",
    "\n",
    "    # Data preparation\n",
    "    raw_X = dataset['data']\n",
    "    raw_Y = dataset['target']\n",
    "    return raw_X, raw_Y\n",
    "\n",
    "raw_X, raw_Y = load_data()\n",
    "\n"
   ]
  },
  {
   "cell_type": "markdown",
   "metadata": {
    "id": "YEwXHBQh8r93"
   },
   "source": [
    "## Consider the following\n",
    "- what shape is X?\n",
    "- what value ranges does X take? \n",
    " - might this present a problem? \n",
    " - what transformations need to be applied?\n",
    "- what shape is Y?\n",
    "- what value ranges does Y take? \n",
    " - what transformations should be applied?"
   ]
  },
  {
   "cell_type": "code",
   "execution_count": 3,
   "metadata": {
    "executionInfo": {
     "elapsed": 1152,
     "status": "ok",
     "timestamp": 1611959915605,
     "user": {
      "displayName": "Felipe A. Gomes Ferreira",
      "photoUrl": "",
      "userId": "09095471911889500468"
     },
     "user_tz": 180
    },
    "id": "RT499lYakFjo"
   },
   "outputs": [],
   "source": [
    "from keras.utils import to_categorical\n",
    "\n",
    "def clean_data(raw_X, raw_Y):\n",
    "    # TODO: clean and QA raw_X and raw_Y\n",
    "    # DO NOT CHANGE THE INPUTS OR OUTPUTS TO THIS FUNCTION\n",
    "     \n",
    "    cleaned_X = (raw_X/255).astype('float32')\n",
    "    cleaned_Y = to_categorical(raw_Y, 10)\n",
    "\n",
    "\n",
    "    \n",
    "    return cleaned_X, cleaned_Y\n",
    "\n",
    "cleaned_X, cleaned_Y = clean_data(raw_X, raw_Y)"
   ]
  },
  {
   "cell_type": "markdown",
   "metadata": {
    "id": "MpfxuSt4nKUw"
   },
   "source": [
    "#### Data split\n",
    "\n",
    "- Split your data into a train set (50%), validation set (20%) and a test set (30%). You can use scikit-learn's train_test_split function."
   ]
  },
  {
   "cell_type": "code",
   "execution_count": 4,
   "metadata": {
    "executionInfo": {
     "elapsed": 1829,
     "status": "ok",
     "timestamp": 1611959928636,
     "user": {
      "displayName": "Felipe A. Gomes Ferreira",
      "photoUrl": "",
      "userId": "09095471911889500468"
     },
     "user_tz": 180
    },
    "id": "7gjkRpwbkP1j"
   },
   "outputs": [],
   "source": [
    "def split_data(cleaned_X, cleaned_Y):\n",
    "\n",
    "    # TODO: split the data\n",
    "    # DO NOT CHANGE THE INPUTS OR OUTPUTS TO THIS FUNCTION\n",
    "\n",
    "    X_train, X_test, Y_train, Y_test = train_test_split(cleaned_X, cleaned_Y, test_size=0.3)\n",
    "    X_train, X_val, Y_train, Y_val = train_test_split(X_train, Y_train, test_size=2/7, train_size=5/7)\n",
    "    \n",
    "    return X_val, X_test, X_train, Y_val, Y_test, Y_train\n",
    "\n",
    "X_val, X_test, X_train, Y_val, Y_test, Y_train = split_data(cleaned_X, cleaned_Y)"
   ]
  },
  {
   "cell_type": "code",
   "execution_count": 5,
   "metadata": {
    "colab": {
     "base_uri": "https://localhost:8080/"
    },
    "executionInfo": {
     "elapsed": 965,
     "status": "ok",
     "timestamp": 1611959933653,
     "user": {
      "displayName": "Felipe A. Gomes Ferreira",
      "photoUrl": "",
      "userId": "09095471911889500468"
     },
     "user_tz": 180
    },
    "id": "k3gcPHp0WkO-",
    "outputId": "71f98681-e15b-45b6-adcb-4c133a36ef6d"
   },
   "outputs": [
    {
     "name": "stdout",
     "output_type": "stream",
     "text": [
      "Shape of X_train: (35000, 784) \n",
      " Shape of Y_train: (35000, 10)\n",
      "Shape of X_val: (14000, 784) \n",
      " Shape of Y_val: (14000, 10)\n",
      "Shape of X_test: (21000, 784) \n",
      " Shape of Y_test: (21000, 10)\n"
     ]
    }
   ],
   "source": [
    "print('Shape of X_train:', X_train.shape, '\\n', 'Shape of Y_train:', Y_train.shape)               # NÃO DEVO INCLUIR ISSO\n",
    "\n",
    "'\\n'\n",
    "'\\n'\n",
    "\n",
    "print('Shape of X_val:', X_val.shape, '\\n', 'Shape of Y_val:', Y_val.shape)\n",
    "\n",
    "'\\n'\n",
    "'\\n'\n",
    "\n",
    "print('Shape of X_test:', X_test.shape, '\\n', 'Shape of Y_test:', Y_test.shape)"
   ]
  },
  {
   "cell_type": "markdown",
   "metadata": {
    "id": "lGHlLLTanrUI"
   },
   "source": [
    "#### [Optional]: plot your data with matplotlib\n",
    "- Hint: you will need to reshape the row's data into a 28x28 matrix\n",
    "- https://matplotlib.org/3.1.1/api/_as_gen/matplotlib.pyplot.imshow.html\n",
    "- https://docs.scipy.org/doc/numpy/reference/generated/numpy.reshape.html"
   ]
  },
  {
   "cell_type": "code",
   "execution_count": 6,
   "metadata": {
    "colab": {
     "base_uri": "https://localhost:8080/",
     "height": 1000
    },
    "executionInfo": {
     "elapsed": 2789,
     "status": "ok",
     "timestamp": 1611959942027,
     "user": {
      "displayName": "Felipe A. Gomes Ferreira",
      "photoUrl": "",
      "userId": "09095471911889500468"
     },
     "user_tz": 180
    },
    "id": "wYpoQEMEkUhL",
    "outputId": "a2533374-17e5-41ce-a61d-667815bbf29b"
   },
   "outputs": [
    {
     "data": {
      "image/png": "[encoded data removed]",
      "text/plain": [
       "<Figure size 432x288 with 1 Axes>"
      ]
     },
     "metadata": {
      "needs_background": "light",
      "tags": []
     },
     "output_type": "display_data"
    },
    {
     "data": {
      "image/png": "[encoded data removed]",
      "text/plain": [
       "<Figure size 432x288 with 1 Axes>"
      ]
     },
     "metadata": {
      "needs_background": "light",
      "tags": []
     },
     "output_type": "display_data"
    },
    {
     "data": {
      "image/png": "[encoded data removed]",
      "text/plain": [
       "<Figure size 432x288 with 1 Axes>"
      ]
     },
     "metadata": {
      "needs_background": "light",
      "tags": []
     },
     "output_type": "display_data"
    },
    {
     "data": {
      "image/png": "[encoded data removed]",
      "text/plain": [
       "<Figure size 432x288 with 1 Axes>"
      ]
     },
     "metadata": {
      "needs_background": "light",
      "tags": []
     },
     "output_type": "display_data"
    },
    {
     "data": {
      "image/png": "[encoded data removed]",
      "text/plain": [
       "<Figure size 432x288 with 1 Axes>"
      ]
     },
     "metadata": {
      "needs_background": "light",
      "tags": []
     },
     "output_type": "display_data"
    },
    {
     "data": {
      "image/png": "[encoded data removed]",
      "text/plain": [
       "<Figure size 432x288 with 1 Axes>"
      ]
     },
     "metadata": {
      "needs_background": "light",
      "tags": []
     },
     "output_type": "display_data"
    },
    {
     "data": {
      "image/png": "[encoded data removed]",
      "text/plain": [
       "<Figure size 432x288 with 1 Axes>"
      ]
     },
     "metadata": {
      "needs_background": "light",
      "tags": []
     },
     "output_type": "display_data"
    },
    {
     "data": {
      "image/png": "[encoded data removed]",
      "text/plain": [
       "<Figure size 432x288 with 1 Axes>"
      ]
     },
     "metadata": {
      "needs_background": "light",
      "tags": []
     },
     "output_type": "display_data"
    },
    {
     "data": {
      "image/png": "[encoded data removed]",
      "text/plain": [
       "<Figure size 432x288 with 1 Axes>"
      ]
     },
     "metadata": {
      "needs_background": "light",
      "tags": []
     },
     "output_type": "display_data"
    },
    {
     "data": {
      "image/png": "[encoded data removed]",
      "text/plain": [
       "<Figure size 432x288 with 1 Axes>"
      ]
     },
     "metadata": {
      "needs_background": "light",
      "tags": []
     },
     "output_type": "display_data"
    }
   ],
   "source": [
    "def viz_data(X_train):\n",
    "    X_train_sample = X_train[:10,]\n",
    "    # TODO: (optional) plot your data with matplotlib\n",
    "    # DO NOT CHANGE THE INPUTS OR OUTPUTS TO THIS FUNCTION\n",
    "    for i in range(10):\n",
    "      img = X_train_sample[i].reshape((28,28))\n",
    "      plt.imshow(img, cmap=\"inferno\")\n",
    "      plt.show()\n",
    "\n",
    "\n",
    "viz_data(X_train)"
   ]
  },
  {
   "cell_type": "markdown",
   "metadata": {
    "id": "WRTFvCTzn12X"
   },
   "source": [
    "### Model\n",
    "\n",
    "#### Neural network structure\n",
    "- For this network, we'll use 2 hidden layers\n",
    "- Layer 1 should have 128 nodes, a dropout rate of 20%, and relu as its activation function\n",
    "- Layer 2 should have 64 nodes, a dropout rate of 20%, and relu as its activation function\n",
    "- The last layer should map back to the 10 possible MNIST class. Use softmax as the activation\n",
    "\n"
   ]
  },
  {
   "cell_type": "code",
   "execution_count": 7,
   "metadata": {
    "executionInfo": {
     "elapsed": 771,
     "status": "ok",
     "timestamp": 1611959960663,
     "user": {
      "displayName": "Felipe A. Gomes Ferreira",
      "photoUrl": "",
      "userId": "09095471911889500468"
     },
     "user_tz": 180
    },
    "id": "pgoOjxY9ki_O"
   },
   "outputs": [],
   "source": [
    "def build_model():\n",
    "    # TODO: build the model, \n",
    "    # HINT: you should have Total params: 109,386\n",
    "    # DO NOT CHANGE THE INPUTS OR OUTPUTS TO THIS FUNCTION\n",
    "    \n",
    "    model = Sequential()\n",
    "    model.add(Dense(128, activation='relu', input_shape=(784,)))                  # First hidden layer\n",
    "    model.add(Dropout(0.2))  \n",
    "\n",
    "    model.add(Dense(64, activation='relu'))                                       # Second hidden layer\n",
    "    model.add(Dropout(0.2))  \n",
    "\n",
    "    model.add(Dense(10, activation='softmax')) \n",
    "    \n",
    "    \n",
    "    return model\n",
    "\n",
    "model = build_model()\n"
   ]
  },
  {
   "cell_type": "code",
   "execution_count": 8,
   "metadata": {
    "colab": {
     "base_uri": "https://localhost:8080/"
    },
    "executionInfo": {
     "elapsed": 704,
     "status": "ok",
     "timestamp": 1611959969964,
     "user": {
      "displayName": "Felipe A. Gomes Ferreira",
      "photoUrl": "",
      "userId": "09095471911889500468"
     },
     "user_tz": 180
    },
    "id": "6puo3rbN73OC",
    "outputId": "c0c440ea-2202-45d1-c0d3-2101bdb97252"
   },
   "outputs": [
    {
     "name": "stdout",
     "output_type": "stream",
     "text": [
      "Model: \"sequential\"\n",
      "_________________________________________________________________\n",
      "Layer (type)                 Output Shape              Param #   \n",
      "=================================================================\n",
      "dense (Dense)                (None, 128)               100480    \n",
      "_________________________________________________________________\n",
      "dropout (Dropout)            (None, 128)               0         \n",
      "_________________________________________________________________\n",
      "dense_1 (Dense)              (None, 64)                8256      \n",
      "_________________________________________________________________\n",
      "dropout_1 (Dropout)          (None, 64)                0         \n",
      "_________________________________________________________________\n",
      "dense_2 (Dense)              (None, 10)                650       \n",
      "=================================================================\n",
      "Total params: 109,386\n",
      "Trainable params: 109,386\n",
      "Non-trainable params: 0\n",
      "_________________________________________________________________\n"
     ]
    }
   ],
   "source": [
    "model.summary()"
   ]
  },
  {
   "cell_type": "markdown",
   "metadata": {
    "id": "vqv4in2ZodVR"
   },
   "source": [
    "# Model compilation\n",
    "\n",
    "- what loss function should you use?\n",
    "- Note your choice of optimizer\n",
    "- Include accuracy as a metric\n",
    "\n",
    "# Model training\n",
    "- Use a batch size of 128, and train for 12 epochs\n",
    "- Use verbose training, include validation data\n"
   ]
  },
  {
   "cell_type": "code",
   "execution_count": 9,
   "metadata": {
    "colab": {
     "base_uri": "https://localhost:8080/"
    },
    "executionInfo": {
     "elapsed": 18872,
     "status": "ok",
     "timestamp": 1611960093201,
     "user": {
      "displayName": "Felipe A. Gomes Ferreira",
      "photoUrl": "",
      "userId": "09095471911889500468"
     },
     "user_tz": 180
    },
    "id": "dHD6wIDlk095",
    "outputId": "6f093452-1f4f-4eec-b100-ca0cf23008f3"
   },
   "outputs": [
    {
     "name": "stdout",
     "output_type": "stream",
     "text": [
      "Epoch 1/12\n",
      "274/274 [==============================] - 2s 7ms/step - loss: 0.9500 - accuracy: 0.6966 - val_loss: 0.2292 - val_accuracy: 0.9340\n",
      "Epoch 2/12\n",
      "274/274 [==============================] - 1s 5ms/step - loss: 0.2693 - accuracy: 0.9209 - val_loss: 0.1659 - val_accuracy: 0.9502\n",
      "Epoch 3/12\n",
      "274/274 [==============================] - 1s 5ms/step - loss: 0.1995 - accuracy: 0.9408 - val_loss: 0.1356 - val_accuracy: 0.9601\n",
      "Epoch 4/12\n",
      "274/274 [==============================] - 1s 5ms/step - loss: 0.1547 - accuracy: 0.9538 - val_loss: 0.1174 - val_accuracy: 0.9634\n",
      "Epoch 5/12\n",
      "274/274 [==============================] - 2s 6ms/step - loss: 0.1318 - accuracy: 0.9595 - val_loss: 0.1092 - val_accuracy: 0.9669\n",
      "Epoch 6/12\n",
      "274/274 [==============================] - 1s 5ms/step - loss: 0.1115 - accuracy: 0.9668 - val_loss: 0.0964 - val_accuracy: 0.9706\n",
      "Epoch 7/12\n",
      "274/274 [==============================] - 1s 5ms/step - loss: 0.0948 - accuracy: 0.9718 - val_loss: 0.0979 - val_accuracy: 0.9706\n",
      "Epoch 8/12\n",
      "274/274 [==============================] - 1s 5ms/step - loss: 0.0884 - accuracy: 0.9736 - val_loss: 0.0879 - val_accuracy: 0.9731\n",
      "Epoch 9/12\n",
      "274/274 [==============================] - 1s 5ms/step - loss: 0.0778 - accuracy: 0.9762 - val_loss: 0.0875 - val_accuracy: 0.9738\n",
      "Epoch 10/12\n",
      "274/274 [==============================] - 1s 5ms/step - loss: 0.0709 - accuracy: 0.9788 - val_loss: 0.0866 - val_accuracy: 0.9749\n",
      "Epoch 11/12\n",
      "274/274 [==============================] - 1s 5ms/step - loss: 0.0651 - accuracy: 0.9795 - val_loss: 0.0818 - val_accuracy: 0.9758\n",
      "Epoch 12/12\n",
      "274/274 [==============================] - 1s 5ms/step - loss: 0.0615 - accuracy: 0.9817 - val_loss: 0.0852 - val_accuracy: 0.9756\n"
     ]
    }
   ],
   "source": [
    "def compile_model(model):\n",
    "    # TODO: compile the model\n",
    "    # DO NOT CHANGE THE INPUTS OR OUTPUTS TO THIS FUNCTION\n",
    "\n",
    "    model.compile(loss='categorical_crossentropy', metrics=['accuracy'], optimizer='adam')\n",
    "\n",
    "\n",
    "    return model\n",
    "\n",
    "def train_model(model, X_train, Y_train, X_val, Y_val):\n",
    "    # TODO: train the model\n",
    "    # DO NOT CHANGE THE INPUTS OR OUTPUTS TO THIS FUNCTION\n",
    "\n",
    "    \n",
    "    history = model.fit(X_train, Y_train, batch_size=128, epochs=12, validation_data=(X_val, Y_val))\n",
    "    return model, history\n",
    "\n",
    "\n",
    "model = compile_model(model)\n",
    "model, history = train_model(model, X_train, Y_train, X_val, Y_val)"
   ]
  },
  {
   "cell_type": "markdown",
   "metadata": {
    "id": "S2zIqZeMQH1t"
   },
   "source": [
    "**Let's save our model for possible future benefits**"
   ]
  },
  {
   "cell_type": "code",
   "execution_count": 10,
   "metadata": {
    "colab": {
     "base_uri": "https://localhost:8080/"
    },
    "executionInfo": {
     "elapsed": 1585,
     "status": "ok",
     "timestamp": 1611960119190,
     "user": {
      "displayName": "Felipe A. Gomes Ferreira",
      "photoUrl": "",
      "userId": "09095471911889500468"
     },
     "user_tz": 180
    },
    "id": "TRK4UxmJQPqx",
    "outputId": "5a5cdbe8-b921-4e29-d4fd-d33a7089df24"
   },
   "outputs": [
    {
     "name": "stdout",
     "output_type": "stream",
     "text": [
      "INFO:tensorflow:Assets written to: /Ex1 results/keras_mnist_FIRST/assets\n",
      "Saved trained model at /Ex1 results/keras_mnist_FIRST \n"
     ]
    }
   ],
   "source": [
    "import os\n",
    "save_dir = \"/Ex1 results/\"\n",
    "model_name = 'keras_mnist_FIRST'\n",
    "model_path = os.path.join(save_dir, model_name)\n",
    "model.save(model_path)\n",
    "print('Saved trained model at %s ' % model_path)"
   ]
  },
  {
   "cell_type": "markdown",
   "metadata": {
    "id": "sQSucBXSU82y"
   },
   "source": [
    "Está salvo no ficheiro ao lado esquerdo acima do diretório sample_data, NÃO NO DRIVE."
   ]
  },
  {
   "cell_type": "markdown",
   "metadata": {
    "id": "v6wzs18_ormL"
   },
   "source": [
    "# Model evaluation\n",
    "- Show the performance on the test set\n",
    "- What is the difference between \"evaluate\" and \"predict\"?\n",
    "- Identify a few images the model classifies incorrectly. Any observations?"
   ]
  },
  {
   "cell_type": "code",
   "execution_count": 11,
   "metadata": {
    "colab": {
     "base_uri": "https://localhost:8080/"
    },
    "executionInfo": {
     "elapsed": 2265,
     "status": "ok",
     "timestamp": 1611960493258,
     "user": {
      "displayName": "Felipe A. Gomes Ferreira",
      "photoUrl": "",
      "userId": "09095471911889500468"
     },
     "user_tz": 180
    },
    "id": "jxrqJb9Uk3Hz",
    "outputId": "351c409d-9492-49b3-bdb3-96ffc3087f43"
   },
   "outputs": [
    {
     "name": "stdout",
     "output_type": "stream",
     "text": [
      "657/657 [==============================] - 1s 1ms/step - loss: 0.0913 - accuracy: 0.9735\n"
     ]
    }
   ],
   "source": [
    "def eval_model(model, X_test, Y_test):\n",
    "    # TODO: evaluate the model\n",
    "    # DO NOT CHANGE THE INPUTS OR OUTPUTS TO THIS FUNCTION\n",
    "\n",
    "    test_loss, test_accuracy = model.evaluate(X_test, Y_test)\n",
    "\n",
    "\n",
    "\n",
    "    return test_loss, test_accuracy\n",
    "\n",
    "predictions = model.predict(X_test)\n",
    "test_loss, test_accuracy = eval_model(model, X_test, Y_test)"
   ]
  },
  {
   "cell_type": "markdown",
   "metadata": {
    "id": "u21sXyjWpnPX"
   },
   "source": [
    "## Further exploration (Not evaluated)\n",
    "Looking for something else  to do?\n",
    "- Transform your code to do hyperparameter search. \n",
    "- You can vary the number of nodes in the layers, the drop out rate, the optimizer and the parameters in Adam, the batch size, etc.\n"
   ]
  },
  {
   "cell_type": "markdown",
   "metadata": {
    "id": "Z_-G9u2hFnDW"
   },
   "source": [
    "### **Learning curves**"
   ]
  },
  {
   "cell_type": "code",
   "execution_count": 12,
   "metadata": {
    "colab": {
     "base_uri": "https://localhost:8080/",
     "height": 297
    },
    "executionInfo": {
     "elapsed": 1250,
     "status": "ok",
     "timestamp": 1611960503357,
     "user": {
      "displayName": "Felipe A. Gomes Ferreira",
      "photoUrl": "",
      "userId": "09095471911889500468"
     },
     "user_tz": 180
    },
    "id": "rg0hS1Vk7Pwo",
    "outputId": "a69e3559-39fd-44b3-f888-022fcc52e30c"
   },
   "outputs": [
    {
     "data": {
      "image/png": "[encoded data removed]",
      "text/plain": [
       "<Figure size 432x288 with 2 Axes>"
      ]
     },
     "metadata": {
      "needs_background": "light",
      "tags": []
     },
     "output_type": "display_data"
    }
   ],
   "source": [
    "# plotting the accuracy\n",
    "fig2 = plt.figure()\n",
    "plt.subplot(2,1,1)\n",
    "plt.plot(history.history['accuracy'])\n",
    "plt.plot(history.history['val_accuracy'])\n",
    "plt.title('model accuracy')\n",
    "plt.ylabel('accuracy')\n",
    "plt.xlabel('epoch')\n",
    "plt.legend(['train', 'validation'], loc='lower right')\n",
    "\n",
    "# plotting the loss\n",
    "plt.subplot(2,1,2)\n",
    "plt.plot(history.history['loss'])\n",
    "plt.plot(history.history['val_loss'])\n",
    "plt.title('model loss')\n",
    "plt.ylabel('loss')\n",
    "plt.xlabel('epoch')\n",
    "plt.legend(['train', 'validation'], loc='upper right')\n",
    "\n",
    "plt.tight_layout()\n",
    "\n",
    "fig2.show()"
   ]
  },
  {
   "cell_type": "markdown",
   "metadata": {
    "id": "pQ1BDGy9748L"
   },
   "source": [
    "**which we predicted correctly and which not**"
   ]
  },
  {
   "cell_type": "code",
   "execution_count": null,
   "metadata": {
    "colab": {
     "base_uri": "https://localhost:8080/"
    },
    "executionInfo": {
     "elapsed": 993,
     "status": "ok",
     "timestamp": 1611906458764,
     "user": {
      "displayName": "Felipe A. Gomes Ferreira",
      "photoUrl": "",
      "userId": "09095471911889500468"
     },
     "user_tz": 180
    },
    "id": "lKtH4_VG-kO5",
    "outputId": "c48ee61a-e703-4588-bd33-f73775e7f52c"
   },
   "outputs": [
    {
     "name": "stdout",
     "output_type": "stream",
     "text": [
      "Number of correct predictions: 20437\n",
      "Number of incorrect predictions: 563\n"
     ]
    }
   ],
   "source": [
    "import numpy as np\n",
    "Incorrect = (np.argmax(predictions, axis=1) !=  np.argmax(Y_test,axis=1)).sum()\n",
    "Correct = (np.argmax(predictions, axis=1) ==  np.argmax(Y_test,axis=1)).sum()\n",
    "print('Number of correct predictions:', Correct)\n",
    "print('Number of incorrect predictions:', Incorrect)"
   ]
  },
  {
   "cell_type": "code",
   "execution_count": null,
   "metadata": {
    "colab": {
     "base_uri": "https://localhost:8080/",
     "height": 352
    },
    "executionInfo": {
     "elapsed": 1345,
     "status": "ok",
     "timestamp": 1611906471004,
     "user": {
      "displayName": "Felipe A. Gomes Ferreira",
      "photoUrl": "",
      "userId": "09095471911889500468"
     },
     "user_tz": 180
    },
    "id": "Cd-k1Pg4AFae",
    "outputId": "4bcc65ea-bb5d-4a0c-92dc-ed3f53de9fe4"
   },
   "outputs": [
    {
     "name": "stdout",
     "output_type": "stream",
     "text": [
      "Random Indexes: [ 10 322  60 448]\n"
     ]
    },
    {
     "data": {
      "image/png": "[encoded data removed]",
      "text/plain": [
       "<Figure size 1800x3600 with 4 Axes>"
      ]
     },
     "metadata": {
      "needs_background": "light",
      "tags": []
     },
     "output_type": "display_data"
    }
   ],
   "source": [
    "wrongPredictionIndexes = []\n",
    "i = 0\n",
    "for actual, prediction in zip(np.argmax(Y_test, axis=1), np.argmax(predictions, axis=1)):\n",
    "    if actual != prediction:\n",
    "        wrongPredictionIndexes.append(i)\n",
    "    i = i + 1\n",
    "\n",
    "randomIntList = np.random.randint(len(wrongPredictionIndexes), size = 4)\n",
    "print('Random Indexes:', randomIntList)\n",
    "plt.rcParams['figure.figsize'] = (25,50)\n",
    "plot = 1\n",
    "plt.figure()\n",
    "for randomNum in randomIntList:\n",
    "    plt.subplot(1,len(randomIntList),plot)\n",
    "    imageIndex = wrongPredictionIndexes[randomNum]\n",
    "    plt.imshow(X_test[imageIndex].reshape(28,28), cmap = 'inferno')\n",
    "    plt.title(\"Actual: \" + str(Y_test[imageIndex]) + '\\n' \"             Prediction: \" + str(np.argmax(predictions[imageIndex])))   \n",
    "        \n",
    "    plot = plot + 1"
   ]
  }
 ],
 "metadata": {
  "colab": {
   "collapsed_sections": [],
   "name": "TEST_ex1.ipynb",
   "provenance": [
    {
     "file_id": "1yCq7y3p1xlpBBWs4HAtjLOMFx1NHu9AX",
     "timestamp": 1611287268254
    },
    {
     "file_id": "13YPxMMtaoOOlHwQcXvWGfmwksBpFDbpX",
     "timestamp": 1611282010735
    },
    {
     "file_id": "14JPwu9IQqVKF82tNMalcjAdDxXqWXqDp",
     "timestamp": 1606674092416
    },
    {
     "file_id": "14fEZtHiQ7TOa-ZHo5Ju_mgAu6dtFzwmk",
     "timestamp": 1606672769745
    },
    {
     "file_id": "1EQ2BDHpCmfdRW5sc_XKgXvhIiwK4yrYE",
     "timestamp": 1606668840428
    },
    {
     "file_id": "1dDL7_NpVfsNWGOjpWvY-AhAU9O-1mglL",
     "timestamp": 1583161660719
    }
   ]
  },
  "kernelspec": {
   "display_name": "Python 3",
   "language": "python",
   "name": "python3"
  },
  "language_info": {
   "codemirror_mode": {
    "name": "ipython",
    "version": 3
   },
   "file_extension": ".py",
   "mimetype": "text/x-python",
   "name": "python",
   "nbconvert_exporter": "python",
   "pygments_lexer": "ipython3",
   "version": "3.8.3"
  }
 },
 "nbformat": 4,
 "nbformat_minor": 1
}
