{
 "metadata": {
  "language_info": {
   "codemirror_mode": {
    "name": "ipython",
    "version": 3
   },
   "file_extension": ".py",
   "mimetype": "text/x-python",
   "name": "python",
   "nbconvert_exporter": "python",
   "pygments_lexer": "ipython3",
   "version": "3.8.6-candidate"
  },
  "orig_nbformat": 2,
  "kernelspec": {
   "name": "python3",
   "display_name": "Python 3.8.6 64-bit",
   "metadata": {
    "interpreter": {
     "hash": "4bff7fa039aac973483c1743bf6ad816d7d546b6b618d009c15de163eb6805ea"
    }
   }
  }
 },
 "nbformat": 4,
 "nbformat_minor": 2,
 "cells": [
  {
   "source": [
    "# Resize original dataset\n",
    "Resize the original dataset to ensure efficient model building and data storage "
   ],
   "cell_type": "markdown",
   "metadata": {}
  },
  {
   "cell_type": "code",
   "execution_count": 28,
   "metadata": {},
   "outputs": [],
   "source": [
    "# Import necessary packages\n",
    "\n",
    "from PIL import Image \n",
    "import pandas as pd \n",
    "import os"
   ]
  },
  {
   "cell_type": "code",
   "execution_count": 6,
   "metadata": {},
   "outputs": [],
   "source": [
    "# Load file locations\n",
    "\n",
    "files = pd.read_excel('dataset_information.xlsx', sheet_name = 'images.txt')"
   ]
  },
  {
   "cell_type": "code",
   "execution_count": 7,
   "metadata": {},
   "outputs": [
    {
     "output_type": "execute_result",
     "data": {
      "text/plain": [
       "                               image_id  \\\n",
       "0  0000139e-21dc-4d0c-bfe1-4cae3c85c829   \n",
       "1  0000d9fc-4e02-4c06-a0af-a55cfb16b12b   \n",
       "2  00019306-9d83-4334-b255-a447742edce3   \n",
       "3  0001afd4-99a1-4a67-b940-d419413e23b3   \n",
       "4  000332b8-997c-4540-9647-2f0a8495aecf   \n",
       "\n",
       "                              image_location  \n",
       "0  0817/0000139e21dc4d0cbfe14cae3c85c829.jpg  \n",
       "1  0860/0000d9fc4e024c06a0afa55cfb16b12b.jpg  \n",
       "2  0900/000193069d834334b255a447742edce3.jpg  \n",
       "3  0645/0001afd499a14a67b940d419413e23b3.jpg  \n",
       "4  0929/000332b8997c454096472f0a8495aecf.jpg  "
      ],
      "text/html": "<div>\n<style scoped>\n    .dataframe tbody tr th:only-of-type {\n        vertical-align: middle;\n    }\n\n    .dataframe tbody tr th {\n        vertical-align: top;\n    }\n\n    .dataframe thead th {\n        text-align: right;\n    }\n</style>\n<table border=\"1\" class=\"dataframe\">\n  <thead>\n    <tr style=\"text-align: right;\">\n      <th></th>\n      <th>image_id</th>\n      <th>image_location</th>\n    </tr>\n  </thead>\n  <tbody>\n    <tr>\n      <th>0</th>\n      <td>0000139e-21dc-4d0c-bfe1-4cae3c85c829</td>\n      <td>0817/0000139e21dc4d0cbfe14cae3c85c829.jpg</td>\n    </tr>\n    <tr>\n      <th>1</th>\n      <td>0000d9fc-4e02-4c06-a0af-a55cfb16b12b</td>\n      <td>0860/0000d9fc4e024c06a0afa55cfb16b12b.jpg</td>\n    </tr>\n    <tr>\n      <th>2</th>\n      <td>00019306-9d83-4334-b255-a447742edce3</td>\n      <td>0900/000193069d834334b255a447742edce3.jpg</td>\n    </tr>\n    <tr>\n      <th>3</th>\n      <td>0001afd4-99a1-4a67-b940-d419413e23b3</td>\n      <td>0645/0001afd499a14a67b940d419413e23b3.jpg</td>\n    </tr>\n    <tr>\n      <th>4</th>\n      <td>000332b8-997c-4540-9647-2f0a8495aecf</td>\n      <td>0929/000332b8997c454096472f0a8495aecf.jpg</td>\n    </tr>\n  </tbody>\n</table>\n</div>"
     },
     "metadata": {},
     "execution_count": 7
    }
   ],
   "source": [
    "# Inspect files dataframe\n",
    "\n",
    "files.head()"
   ]
  },
  {
   "cell_type": "code",
   "execution_count": 13,
   "metadata": {},
   "outputs": [],
   "source": [
    "# Add column for orignal location\n",
    "\n",
    "files['original_location'] = '../images_original/'+files['image_location']\n",
    "files['scaled_location'] = '../images_scaled/'+files['image_location']"
   ]
  },
  {
   "cell_type": "code",
   "execution_count": 14,
   "metadata": {},
   "outputs": [
    {
     "output_type": "execute_result",
     "data": {
      "text/plain": [
       "                                   image_id  \\\n",
       "0      0000139e-21dc-4d0c-bfe1-4cae3c85c829   \n",
       "1      0000d9fc-4e02-4c06-a0af-a55cfb16b12b   \n",
       "2      00019306-9d83-4334-b255-a447742edce3   \n",
       "3      0001afd4-99a1-4a67-b940-d419413e23b3   \n",
       "4      000332b8-997c-4540-9647-2f0a8495aecf   \n",
       "...                                     ...   \n",
       "48557  fff86e8b-795f-400a-91e8-565bbb8c453a   \n",
       "48558  fff926d7-ccad-4788-839e-97af2dd99372   \n",
       "48559  fffa33ef-a765-408d-8d66-6efc7f504c71   \n",
       "48560  ffff0d87-bc84-4ef2-a47e-a4bfa48502ce   \n",
       "48561  fffff3a5-2a75-47d0-887f-03871e3f9a37   \n",
       "\n",
       "                                  image_location  \\\n",
       "0      0817/0000139e21dc4d0cbfe14cae3c85c829.jpg   \n",
       "1      0860/0000d9fc4e024c06a0afa55cfb16b12b.jpg   \n",
       "2      0900/000193069d834334b255a447742edce3.jpg   \n",
       "3      0645/0001afd499a14a67b940d419413e23b3.jpg   \n",
       "4      0929/000332b8997c454096472f0a8495aecf.jpg   \n",
       "...                                          ...   \n",
       "48557  0891/fff86e8b795f400a91e8565bbb8c453a.jpg   \n",
       "48558  0660/fff926d7ccad4788839e97af2dd99372.jpg   \n",
       "48559  0492/fffa33efa765408d8d666efc7f504c71.jpg   \n",
       "48560  0372/ffff0d87bc844ef2a47ea4bfa48502ce.jpg   \n",
       "48561  0880/fffff3a52a7547d0887f03871e3f9a37.jpg   \n",
       "\n",
       "                                       original_location  \\\n",
       "0      ../images_original/0817/0000139e21dc4d0cbfe14c...   \n",
       "1      ../images_original/0860/0000d9fc4e024c06a0afa5...   \n",
       "2      ../images_original/0900/000193069d834334b255a4...   \n",
       "3      ../images_original/0645/0001afd499a14a67b940d4...   \n",
       "4      ../images_original/0929/000332b8997c454096472f...   \n",
       "...                                                  ...   \n",
       "48557  ../images_original/0891/fff86e8b795f400a91e856...   \n",
       "48558  ../images_original/0660/fff926d7ccad4788839e97...   \n",
       "48559  ../images_original/0492/fffa33efa765408d8d666e...   \n",
       "48560  ../images_original/0372/ffff0d87bc844ef2a47ea4...   \n",
       "48561  ../images_original/0880/fffff3a52a7547d0887f03...   \n",
       "\n",
       "                                         scaled_location  \n",
       "0      ../images_scaled/0817/0000139e21dc4d0cbfe14cae...  \n",
       "1      ../images_scaled/0860/0000d9fc4e024c06a0afa55c...  \n",
       "2      ../images_scaled/0900/000193069d834334b255a447...  \n",
       "3      ../images_scaled/0645/0001afd499a14a67b940d419...  \n",
       "4      ../images_scaled/0929/000332b8997c454096472f0a...  \n",
       "...                                                  ...  \n",
       "48557  ../images_scaled/0891/fff86e8b795f400a91e8565b...  \n",
       "48558  ../images_scaled/0660/fff926d7ccad4788839e97af...  \n",
       "48559  ../images_scaled/0492/fffa33efa765408d8d666efc...  \n",
       "48560  ../images_scaled/0372/ffff0d87bc844ef2a47ea4bf...  \n",
       "48561  ../images_scaled/0880/fffff3a52a7547d0887f0387...  \n",
       "\n",
       "[48562 rows x 4 columns]"
      ],
      "text/html": "<div>\n<style scoped>\n    .dataframe tbody tr th:only-of-type {\n        vertical-align: middle;\n    }\n\n    .dataframe tbody tr th {\n        vertical-align: top;\n    }\n\n    .dataframe thead th {\n        text-align: right;\n    }\n</style>\n<table border=\"1\" class=\"dataframe\">\n  <thead>\n    <tr style=\"text-align: right;\">\n      <th></th>\n      <th>image_id</th>\n      <th>image_location</th>\n      <th>original_location</th>\n      <th>scaled_location</th>\n    </tr>\n  </thead>\n  <tbody>\n    <tr>\n      <th>0</th>\n      <td>0000139e-21dc-4d0c-bfe1-4cae3c85c829</td>\n      <td>0817/0000139e21dc4d0cbfe14cae3c85c829.jpg</td>\n      <td>../images_original/0817/0000139e21dc4d0cbfe14c...</td>\n      <td>../images_scaled/0817/0000139e21dc4d0cbfe14cae...</td>\n    </tr>\n    <tr>\n      <th>1</th>\n      <td>0000d9fc-4e02-4c06-a0af-a55cfb16b12b</td>\n      <td>0860/0000d9fc4e024c06a0afa55cfb16b12b.jpg</td>\n      <td>../images_original/0860/0000d9fc4e024c06a0afa5...</td>\n      <td>../images_scaled/0860/0000d9fc4e024c06a0afa55c...</td>\n    </tr>\n    <tr>\n      <th>2</th>\n      <td>00019306-9d83-4334-b255-a447742edce3</td>\n      <td>0900/000193069d834334b255a447742edce3.jpg</td>\n      <td>../images_original/0900/000193069d834334b255a4...</td>\n      <td>../images_scaled/0900/000193069d834334b255a447...</td>\n    </tr>\n    <tr>\n      <th>3</th>\n      <td>0001afd4-99a1-4a67-b940-d419413e23b3</td>\n      <td>0645/0001afd499a14a67b940d419413e23b3.jpg</td>\n      <td>../images_original/0645/0001afd499a14a67b940d4...</td>\n      <td>../images_scaled/0645/0001afd499a14a67b940d419...</td>\n    </tr>\n    <tr>\n      <th>4</th>\n      <td>000332b8-997c-4540-9647-2f0a8495aecf</td>\n      <td>0929/000332b8997c454096472f0a8495aecf.jpg</td>\n      <td>../images_original/0929/000332b8997c454096472f...</td>\n      <td>../images_scaled/0929/000332b8997c454096472f0a...</td>\n    </tr>\n    <tr>\n      <th>...</th>\n      <td>...</td>\n      <td>...</td>\n      <td>...</td>\n      <td>...</td>\n    </tr>\n    <tr>\n      <th>48557</th>\n      <td>fff86e8b-795f-400a-91e8-565bbb8c453a</td>\n      <td>0891/fff86e8b795f400a91e8565bbb8c453a.jpg</td>\n      <td>../images_original/0891/fff86e8b795f400a91e856...</td>\n      <td>../images_scaled/0891/fff86e8b795f400a91e8565b...</td>\n    </tr>\n    <tr>\n      <th>48558</th>\n      <td>fff926d7-ccad-4788-839e-97af2dd99372</td>\n      <td>0660/fff926d7ccad4788839e97af2dd99372.jpg</td>\n      <td>../images_original/0660/fff926d7ccad4788839e97...</td>\n      <td>../images_scaled/0660/fff926d7ccad4788839e97af...</td>\n    </tr>\n    <tr>\n      <th>48559</th>\n      <td>fffa33ef-a765-408d-8d66-6efc7f504c71</td>\n      <td>0492/fffa33efa765408d8d666efc7f504c71.jpg</td>\n      <td>../images_original/0492/fffa33efa765408d8d666e...</td>\n      <td>../images_scaled/0492/fffa33efa765408d8d666efc...</td>\n    </tr>\n    <tr>\n      <th>48560</th>\n      <td>ffff0d87-bc84-4ef2-a47e-a4bfa48502ce</td>\n      <td>0372/ffff0d87bc844ef2a47ea4bfa48502ce.jpg</td>\n      <td>../images_original/0372/ffff0d87bc844ef2a47ea4...</td>\n      <td>../images_scaled/0372/ffff0d87bc844ef2a47ea4bf...</td>\n    </tr>\n    <tr>\n      <th>48561</th>\n      <td>fffff3a5-2a75-47d0-887f-03871e3f9a37</td>\n      <td>0880/fffff3a52a7547d0887f03871e3f9a37.jpg</td>\n      <td>../images_original/0880/fffff3a52a7547d0887f03...</td>\n      <td>../images_scaled/0880/fffff3a52a7547d0887f0387...</td>\n    </tr>\n  </tbody>\n</table>\n<p>48562 rows × 4 columns</p>\n</div>"
     },
     "metadata": {},
     "execution_count": 14
    }
   ],
   "source": [
    "files"
   ]
  },
  {
   "cell_type": "code",
   "execution_count": 33,
   "metadata": {},
   "outputs": [],
   "source": [
    "# Define image resizing operation\n",
    "\n",
    "basewidth = 500\n",
    "\n",
    "def image_scale(img_num):\n",
    "    img = Image.open(files['original_location'][img_num])\n",
    "    wpercent = (basewidth / float(img.size[0]))\n",
    "    hsize = int((float(img.size[1]) * float(wpercent)))\n",
    "    img = img.resize((basewidth, hsize), Image.ANTIALIAS)\n",
    "    img = img.convert('RGB') # For error: cannot write mode RGBA as JPEG. This removes the alpha channel.\n",
    "\n",
    "    # Check if directory exists, if not, create it\n",
    "    path = '../images_scaled/'+files['image_location'][img_num][:5]\n",
    "    if not os.path.isdir(path):\n",
    "        os.mkdir(path)\n",
    "    \n",
    "    img.save(files['scaled_location'][img_num]) # Write scaled image"
   ]
  },
  {
   "cell_type": "code",
   "execution_count": 34,
   "metadata": {},
   "outputs": [],
   "source": [
    "for i in range(0,len(files)):\n",
    "    image_scale(i)"
   ]
  },
  {
   "cell_type": "code",
   "execution_count": null,
   "metadata": {},
   "outputs": [],
   "source": []
  }
 ]
}