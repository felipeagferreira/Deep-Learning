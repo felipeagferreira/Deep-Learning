{
 "metadata": {
  "language_info": {
   "codemirror_mode": {
    "name": "ipython",
    "version": 3
   },
   "file_extension": ".py",
   "mimetype": "text/x-python",
   "name": "python",
   "nbconvert_exporter": "python",
   "pygments_lexer": "ipython3",
   "version": "3.8.6-candidate"
  },
  "orig_nbformat": 2,
  "kernelspec": {
   "name": "python3",
   "display_name": "Python 3.8.6 64-bit",
   "metadata": {
    "interpreter": {
     "hash": "4bff7fa039aac973483c1743bf6ad816d7d546b6b618d009c15de163eb6805ea"
    }
   }
  }
 },
 "nbformat": 4,
 "nbformat_minor": 2,
 "cells": [
  {
   "source": [
    "# NABirds Class Hierarchy\n",
    "This notebook explores the hierarchy of classes in the NABirds to gain an understanding of how birds are categorized"
   ],
   "cell_type": "markdown",
   "metadata": {}
  },
  {
   "cell_type": "code",
   "execution_count": 1,
   "metadata": {},
   "outputs": [],
   "source": [
    "# Load necessary packages\n",
    "\n",
    "import pandas as pd\n",
    "from anytree import Node, RenderTree"
   ]
  },
  {
   "cell_type": "code",
   "execution_count": 2,
   "metadata": {},
   "outputs": [],
   "source": [
    "# Load in hierarchy.txt sheet from dataset_information.xlsx\n",
    "\n",
    "data = pd.read_excel('dataset_information.xlsx', sheet_name='hierarchy.txt')"
   ]
  },
  {
   "cell_type": "code",
   "execution_count": 3,
   "metadata": {},
   "outputs": [
    {
     "output_type": "execute_result",
     "data": {
      "text/plain": [
       "      child_class_id  parent_class_id\n",
       "0                  1                0\n",
       "1                  2                0\n",
       "2                  3                0\n",
       "3                  4                0\n",
       "4                  5                0\n",
       "...              ...              ...\n",
       "1005            1006              591\n",
       "1006            1007              259\n",
       "1007            1008              704\n",
       "1008            1009              691\n",
       "1009            1010              744\n",
       "\n",
       "[1010 rows x 2 columns]"
      ],
      "text/html": "<div>\n<style scoped>\n    .dataframe tbody tr th:only-of-type {\n        vertical-align: middle;\n    }\n\n    .dataframe tbody tr th {\n        vertical-align: top;\n    }\n\n    .dataframe thead th {\n        text-align: right;\n    }\n</style>\n<table border=\"1\" class=\"dataframe\">\n  <thead>\n    <tr style=\"text-align: right;\">\n      <th></th>\n      <th>child_class_id</th>\n      <th>parent_class_id</th>\n    </tr>\n  </thead>\n  <tbody>\n    <tr>\n      <th>0</th>\n      <td>1</td>\n      <td>0</td>\n    </tr>\n    <tr>\n      <th>1</th>\n      <td>2</td>\n      <td>0</td>\n    </tr>\n    <tr>\n      <th>2</th>\n      <td>3</td>\n      <td>0</td>\n    </tr>\n    <tr>\n      <th>3</th>\n      <td>4</td>\n      <td>0</td>\n    </tr>\n    <tr>\n      <th>4</th>\n      <td>5</td>\n      <td>0</td>\n    </tr>\n    <tr>\n      <th>...</th>\n      <td>...</td>\n      <td>...</td>\n    </tr>\n    <tr>\n      <th>1005</th>\n      <td>1006</td>\n      <td>591</td>\n    </tr>\n    <tr>\n      <th>1006</th>\n      <td>1007</td>\n      <td>259</td>\n    </tr>\n    <tr>\n      <th>1007</th>\n      <td>1008</td>\n      <td>704</td>\n    </tr>\n    <tr>\n      <th>1008</th>\n      <td>1009</td>\n      <td>691</td>\n    </tr>\n    <tr>\n      <th>1009</th>\n      <td>1010</td>\n      <td>744</td>\n    </tr>\n  </tbody>\n</table>\n<p>1010 rows × 2 columns</p>\n</div>"
     },
     "metadata": {},
     "execution_count": 3
    }
   ],
   "source": [
    "# Inspect dataframe\n",
    "\n",
    "data"
   ]
  },
  {
   "cell_type": "code",
   "execution_count": 4,
   "metadata": {},
   "outputs": [],
   "source": [
    "# Reorder and rename columns to use Anytree code\n",
    "data.columns = ['Child', 'Parent']\n",
    "new_order = ['Parent', 'Child']\n",
    "data = data.reindex(columns=new_order)"
   ]
  },
  {
   "cell_type": "code",
   "execution_count": 5,
   "metadata": {},
   "outputs": [
    {
     "output_type": "stream",
     "name": "stdout",
     "text": [
      "0\n├── 1\n│   ├── 24\n│   │   └── 610\n│   ├── 27\n│   │   └── 454\n│   ├── 33\n│   │   ├── 313\n│   │   └── 611\n│   ├── 36\n│   │   └── 612\n│   ├── 42\n│   │   └── 455\n│   ├── 51\n│   │   └── 456\n│   ├── 57\n│   │   └── 457\n│   ├── 60\n│   │   └── 458\n│   ├── 67\n│   │   └── 459\n│   ├── 72\n│   │   └── 460\n│   ├── 81\n│   │   ├── 314\n│   │   └── 613\n│   ├── 87\n│   │   ├── 315\n│   │   └── 614\n│   ├── 92\n│   │   ├── 316\n│   │   └── 615\n│   ├── 98\n│   │   └── 461\n│   ├── 102\n│   │   ├── 317\n│   │   └── 616\n│   ├── 109\n│   │   └── 462\n│   ├── 116\n│   │   ├── 318\n│   │   └── 617\n│   ├── 122\n│   │   ├── 319\n│   │   └── 618\n│   ├── 128\n│   │   ├── 320\n│   │   └── 619\n│   ├── 130\n│   │   ├── 321\n│   │   └── 620\n│   ├── 147\n│   │   ├── 322\n│   │   └── 621\n│   ├── 153\n│   │   ├── 323\n│   │   └── 622\n│   ├── 159\n│   │   ├── 324\n│   │   └── 623\n│   ├── 161\n│   │   ├── 325\n│   │   └── 624\n│   ├── 168\n│   │   ├── 326\n│   │   └── 625\n│   ├── 174\n│   │   ├── 327\n│   │   └── 626\n│   ├── 179\n│   │   ├── 295\n│   │   ├── 463\n│   │   └── 696\n│   ├── 181\n│   │   ├── 328\n│   │   └── 627\n│   ├── 187\n│   │   ├── 329\n│   │   └── 628\n│   ├── 192\n│   │   ├── 330\n│   │   └── 629\n│   ├── 201\n│   │   ├── 331\n│   │   └── 630\n│   ├── 203\n│   │   ├── 296\n│   │   ├── 464\n│   │   └── 697\n│   ├── 209\n│   │   ├── 332\n│   │   └── 631\n│   ├── 214\n│   │   ├── 333\n│   │   └── 632\n│   ├── 219\n│   │   ├── 334\n│   │   └── 633\n│   ├── 225\n│   │   ├── 335\n│   │   └── 634\n│   ├── 229\n│   │   ├── 336\n│   │   └── 635\n│   ├── 235\n│   │   ├── 337\n│   │   └── 636\n│   └── 238\n│       ├── 297\n│       ├── 465\n│       └── 698\n├── 2\n│   ├── 43\n│   │   └── 466\n│   ├── 73\n│   │   ├── 338\n│   │   └── 637\n│   ├── 103\n│   │   ├── 339\n│   │   └── 638\n│   ├── 131\n│   │   └── 467\n│   ├── 169\n│   │   ├── 340\n│   │   └── 639\n│   ├── 193\n│   │   └── 468\n│   └── 220\n│       └── 469\n├── 3\n│   ├── 74\n│   │   ├── 341\n│   │   └── 640\n│   ├── 132\n│   │   ├── 342\n│   │   └── 641\n│   └── 194\n│       ├── 343\n│       └── 642\n├── 4\n│   ├── 49\n│   │   └── 470\n│   ├── 84\n│   │   ├── 344\n│   │   └── 643\n│   ├── 118\n│   │   ├── 345\n│   │   └── 644\n│   ├── 157\n│   │   ├── 346\n│   │   └── 645\n│   ├── 185\n│   │   └── 471\n│   └── 215\n│       └── 472\n├── 5\n│   └── 133\n│       └── 473\n├── 6\n│   ├── 44\n│   │   ├── 347\n│   │   └── 646\n│   ├── 75\n│   │   └── 474\n│   ├── 104\n│   │   └── 475\n│   ├── 134\n│   │   ├── 348\n│   │   └── 647\n│   ├── 170\n│   │   ├── 349\n│   │   └── 648\n│   ├── 195\n│   │   └── 476\n│   └── 221\n│       └── 477\n├── 7\n│   ├── 29\n│   │   └── 478\n│   ├── 41\n│   │   └── 479\n│   ├── 58\n│   │   └── 480\n│   ├── 71\n│   │   └── 481\n│   ├── 85\n│   │   └── 482\n│   ├── 99\n│   │   ├── 350\n│   │   └── 649\n│   ├── 115\n│   │   └── 483\n│   ├── 127\n│   │   ├── 351\n│   │   └── 650\n│   ├── 148\n│   │   └── 484\n│   ├── 160\n│   │   └── 485\n│   ├── 173\n│   │   ├── 352\n│   │   └── 651\n│   ├── 184\n│   │   ├── 353\n│   │   └── 652\n│   ├── 198\n│   │   ├── 354\n│   │   └── 653\n│   ├── 208\n│   │   └── 486\n│   ├── 223\n│   │   └── 487\n│   └── 233\n│       └── 488\n├── 8\n│   ├── 28\n│   │   └── 489\n│   ├── 40\n│   │   └── 490\n│   ├── 53\n│   │   └── 491\n│   ├── 66\n│   │   └── 492\n│   ├── 83\n│   │   └── 493\n│   ├── 93\n│   │   └── 494\n│   ├── 108\n│   │   ├── 355\n│   │   └── 654\n│   ├── 120\n│   │   ├── 356\n│   │   └── 655\n│   ├── 135\n│   │   ├── 357\n│   │   └── 656\n│   ├── 155\n│   │   ├── 358\n│   │   └── 657\n│   ├── 166\n│   │   └── 495\n│   ├── 175\n│   │   ├── 359\n│   │   └── 658\n│   ├── 186\n│   │   ├── 360\n│   │   └── 659\n│   ├── 202\n│   │   ├── 298\n│   │   ├── 496\n│   │   └── 699\n│   ├── 210\n│   │   ├── 299\n│   │   ├── 497\n│   │   └── 700\n│   ├── 224\n│   │   ├── 361\n│   │   └── 660\n│   └── 234\n│       ├── 362\n│       └── 661\n├── 9\n│   ├── 54\n│   │   └── 498\n│   ├── 94\n│   │   ├── 363\n│   │   └── 662\n│   ├── 136\n│   │   └── 499\n│   ├── 176\n│   │   ├── 364\n│   │   └── 663\n│   └── 211\n│       └── 500\n├── 10\n│   ├── 61\n│   │   ├── 365\n│   │   └── 664\n│   ├── 110\n│   │   ├── 366\n│   │   └── 665\n│   ├── 162\n│   │   └── 501\n│   └── 204\n│       └── 502\n├── 11\n│   ├── 23\n│   │   ├── 367\n│   │   └── 666\n│   ├── 26\n│   │   └── 503\n│   ├── 30\n│   │   └── 504\n│   ├── 35\n│   │   └── 505\n│   ├── 39\n│   │   └── 506\n│   ├── 46\n│   │   └── 507\n│   ├── 50\n│   │   └── 508\n│   ├── 56\n│   │   ├── 368\n│   │   └── 667\n│   ├── 59\n│   │   └── 509\n│   ├── 65\n│   │   └── 510\n│   ├── 70\n│   │   └── 511\n│   ├── 78\n│   │   └── 512\n│   ├── 82\n│   │   └── 513\n│   ├── 86\n│   │   └── 514\n│   ├── 91\n│   │   └── 515\n│   ├── 97\n│   │   └── 516\n│   ├── 100\n│   │   └── 517\n│   ├── 106\n│   │   └── 518\n│   ├── 114\n│   │   ├── 369\n│   │   └── 668\n│   ├── 117\n│   │   └── 519\n│   ├── 121\n│   │   └── 520\n│   ├── 126\n│   │   └── 521\n│   ├── 129\n│   │   ├── 370\n│   │   └── 669\n│   ├── 146\n│   │   └── 522\n│   ├── 149\n│   │   └── 523\n│   ├── 154\n│   │   └── 524\n│   └── 158\n│       ├── 371\n│       └── 670\n├── 12\n│   ├── 144\n│   │   ├── 392\n│   │   └── 599\n│   └── 190\n│       ├── 393\n│       └── 600\n├── 13\n│   ├── 145\n│   │   ├── 394\n│   │   └── 601\n│   ├── 191\n│   │   └── 446\n│   ├── 218\n│   │   ├── 395\n│   │   └── 602\n│   ├── 232\n│   │   ├── 396\n│   │   └── 603\n│   ├── 237\n│   │   └── 447\n│   ├── 239\n│   │   ├── 398\n│   │   └── 605\n│   ├── 240\n│   │   ├── 397\n│   │   └── 604\n│   ├── 241\n│   │   ├── 399\n│   │   └── 606\n│   ├── 242\n│   │   ├── 400\n│   │   └── 607\n│   ├── 243\n│   │   ├── 401\n│   │   └── 608\n│   ├── 244\n│   │   ├── 402\n│   │   └── 609\n│   ├── 245\n│   │   └── 448\n│   ├── 246\n│   │   └── 449\n│   ├── 247\n│   │   └── 450\n│   ├── 248\n│   │   └── 451\n│   ├── 249\n│   │   └── 452\n│   └── 250\n│       └── 453\n├── 14\n│   ├── 45\n│   │   └── 525\n│   ├── 76\n│   │   └── 526\n│   ├── 105\n│   │   └── 527\n│   ├── 137\n│   │   └── 528\n│   ├── 171\n│   │   └── 529\n│   ├── 196\n│   │   └── 530\n│   └── 222\n│       └── 531\n├── 15\n│   └── 138\n│       └── 532\n├── 16\n│   ├── 77\n│   │   └── 533\n│   ├── 139\n│   │   └── 534\n│   └── 197\n│       └── 535\n├── 17\n│   ├── 37\n│   │   └── 536\n│   ├── 62\n│   │   └── 537\n│   ├── 88\n│   │   └── 538\n│   ├── 111\n│   │   └── 539\n│   ├── 140\n│   │   └── 540\n│   ├── 163\n│   │   └── 541\n│   ├── 182\n│   │   └── 542\n│   ├── 205\n│   │   └── 543\n│   └── 226\n│       └── 544\n├── 18\n│   └── 141\n│       └── 545\n├── 19\n│   ├── 34\n│   │   └── 546\n│   ├── 52\n│   │   └── 547\n│   ├── 68\n│   │   └── 548\n│   ├── 90\n│   │   ├── 372\n│   │   └── 671\n│   ├── 107\n│   │   ├── 373\n│   │   └── 672\n│   ├── 123\n│   │   ├── 374\n│   │   └── 673\n│   ├── 152\n│   │   ├── 375\n│   │   └── 674\n│   ├── 167\n│   │   ├── 376\n│   │   └── 675\n│   ├── 180\n│   │   ├── 377\n│   │   └── 676\n│   ├── 200\n│   │   ├── 378\n│   │   └── 677\n│   ├── 213\n│   │   ├── 379\n│   │   └── 678\n│   └── 228\n│       ├── 380\n│       └── 679\n├── 20\n│   └── 142\n│       └── 549\n├── 21\n│   ├── 31\n│   │   ├── 381\n│   │   └── 680\n│   ├── 47\n│   │   └── 550\n│   ├── 63\n│   │   └── 551\n│   ├── 79\n│   │   └── 552\n│   ├── 95\n│   │   └── 553\n│   ├── 112\n│   │   └── 554\n│   ├── 124\n│   │   └── 555\n│   ├── 150\n│   │   └── 556\n│   ├── 164\n│   │   └── 557\n│   ├── 177\n│   │   └── 558\n│   ├── 188\n│   │   └── 559\n│   ├── 206\n│   │   └── 560\n│   ├── 216\n│   │   ├── 382\n│   │   └── 681\n│   └── 230\n│       └── 561\n└── 22\n    ├── 25\n    │   ├── 256\n    │   │   └── 923\n    │   ├── 270\n    │   │   └── 924\n    │   ├── 281\n    │   │   └── 925\n    │   ├── 300\n    │   │   └── 926\n    │   ├── 312\n    │   │   └── 927\n    │   ├── 409\n    │   │   └── 928\n    │   ├── 420\n    │   │   └── 929\n    │   ├── 562\n    │   │   └── 930\n    │   ├── 575\n    │   │   ├── 797\n    │   │   └── 1004\n    │   ├── 586\n    │   │   └── 931\n    │   ├── 684\n    │   │   └── 932\n    │   ├── 701\n    │   │   └── 933\n    │   ├── 716\n    │   │   └── 934\n    │   ├── 727\n    │   │   └── 935\n    │   └── 741\n    │       └── 936\n    ├── 32\n    │   ├── 383\n    │   │   └── 937\n    │   └── 682\n    │       └── 938\n    ├── 38\n    │   ├── 263\n    │   │   └── 939\n    │   ├── 285\n    │   │   └── 940\n    │   ├── 307\n    │   │   └── 941\n    │   ├── 414\n    │   │   └── 942\n    │   ├── 563\n    │   │   └── 943\n    │   ├── 580\n    │   │   └── 944\n    │   ├── 689\n    │   │   └── 945\n    │   ├── 712\n    │   │   └── 946\n    │   └── 733\n    │       └── 947\n    ├── 48\n    │   ├── 257\n    │   │   └── 948\n    │   ├── 271\n    │   │   └── 949\n    │   ├── 286\n    │   │   └── 950\n    │   ├── 301\n    │   │   └── 951\n    │   ├── 384\n    │   │   └── 952\n    │   ├── 415\n    │   │   └── 953\n    │   ├── 428\n    │   │   └── 954\n    │   ├── 566\n    │   │   └── 955\n    │   ├── 581\n    │   │   └── 956\n    │   ├── 683\n    │   │   └── 957\n    │   ├── 695\n    │   │   └── 799\n    │   ├── 710\n    │   │   └── 800\n    │   ├── 725\n    │   │   └── 801\n    │   └── 739\n    │       └── 802\n    ├── 55\n    │   └── 432\n    │       └── 803\n    ├── 64\n    │   ├── 264\n    │   │   ├── 752\n    │   │   └── 959\n    │   ├── 287\n    │   │   └── 804\n    │   ├── 385\n    │   │   └── 805\n    │   ├── 421\n    │   │   └── 806\n    │   ├── 571\n    │   │   └── 807\n    │   ├── 592\n    │   │   └── 808\n    │   ├── 707\n    │   │   └── 809\n    │   └── 730\n    │       └── 810\n    ├── 69\n    │   ├── 261\n    │   │   └── 811\n    │   ├── 278\n    │   │   └── 812\n    │   ├── 303\n    │   │   └── 813\n    │   ├── 406\n    │   │   └── 814\n    │   ├── 424\n    │   │   └── 815\n    │   ├── 569\n    │   │   └── 816\n    │   ├── 587\n    │   │   └── 817\n    │   ├── 692\n    │   │   └── 818\n    │   ├── 717\n    │   │   └── 819\n    │   └── 734\n    │       └── 820\n    ├── 80\n    │   └── 433\n    │       └── 821\n    ├── 89\n    │   └── 434\n    │       └── 822\n    ├── 96\n    │   ├── 284\n    │   │   └── 823\n    │   ├── 413\n    │   │   └── 824\n    │   ├── 579\n    │   │   └── 825\n    │   └── 711\n    │       └── 826\n    ├── 101\n    │   └── 435\n    │       └── 827\n    ├── 113\n    │   ├── 265\n    │   │   └── 828\n    │   ├── 288\n    │   │   └── 829\n    │   ├── 386\n    │   │   └── 830\n    │   ├── 422\n    │   │   └── 831\n    │   ├── 572\n    │   │   └── 832\n    │   ├── 593\n    │   │   └── 833\n    │   ├── 708\n    │   │   └── 834\n    │   └── 731\n    │       └── 835\n    ├── 119\n    │   ├── 387\n    │   │   └── 836\n    │   └── 594\n    │       └── 837\n    ├── 125\n    │   └── 436\n    │       └── 838\n    ├── 143\n    │   ├── 388\n    │   │   └── 839\n    │   └── 595\n    │       └── 840\n    ├── 151\n    │   └── 437\n    │       └── 841\n    ├── 156\n    │   ├── 262\n    │   │   └── 842\n    │   ├── 279\n    │   │   └── 843\n    │   ├── 304\n    │   │   └── 844\n    │   ├── 407\n    │   │   └── 845\n    │   ├── 425\n    │   │   └── 846\n    │   ├── 570\n    │   │   └── 847\n    │   ├── 588\n    │   │   └── 848\n    │   ├── 693\n    │   │   └── 849\n    │   ├── 718\n    │   │   ├── 753\n    │   │   └── 960\n    │   └── 735\n    │       └── 850\n    ├── 165\n    │   ├── 275\n    │   │   └── 851\n    │   ├── 389\n    │   │   └── 852\n    │   ├── 438\n    │   │   └── 853\n    │   ├── 596\n    │   │   └── 854\n    │   └── 720\n    │       └── 855\n    ├── 172\n    │   └── 439\n    │       ├── 748\n    │       ├── 856\n    │       └── 1005\n    ├── 178\n    │   └── 440\n    │       └── 857\n    ├── 183\n    │   ├── 390\n    │   │   └── 858\n    │   └── 597\n    │       └── 859\n    ├── 189\n    │   └── 441\n    │       ├── 754\n    │       └── 961\n    ├── 199\n    │   └── 442\n    │       ├── 755\n    │       └── 962\n    ├── 207\n    │   ├── 251\n    │   │   └── 860\n    │   ├── 253\n    │   │   └── 861\n    │   ├── 260\n    │   │   └── 862\n    │   ├── 266\n    │   │   └── 863\n    │   ├── 272\n    │   │   └── 864\n    │   ├── 276\n    │   │   └── 865\n    │   ├── 283\n    │   │   └── 866\n    │   ├── 289\n    │   │   └── 867\n    │   ├── 293\n    │   │   └── 868\n    │   ├── 305\n    │   │   └── 869\n    │   ├── 308\n    │   │   └── 870\n    │   ├── 391\n    │   │   ├── 756\n    │   │   └── 963\n    │   ├── 405\n    │   │   └── 871\n    │   ├── 412\n    │   │   ├── 757\n    │   │   └── 964\n    │   ├── 417\n    │   │   └── 872\n    │   ├── 423\n    │   │   └── 873\n    │   ├── 430\n    │   │   ├── 758\n    │   │   └── 965\n    │   ├── 443\n    │   │   ├── 759\n    │   │   └── 966\n    │   ├── 564\n    │   │   └── 874\n    │   ├── 573\n    │   │   └── 875\n    │   ├── 577\n    │   │   ├── 760\n    │   │   └── 967\n    │   ├── 582\n    │   │   ├── 761\n    │   │   └── 968\n    │   ├── 589\n    │   │   ├── 762\n    │   │   └── 969\n    │   ├── 598\n    │   │   └── 876\n    │   ├── 688\n    │   │   └── 877\n    │   ├── 691\n    │   │   ├── 747\n    │   │   ├── 798\n    │   │   ├── 958\n    │   │   └── 1009\n    │   ├── 702\n    │   │   └── 878\n    │   ├── 709\n    │   │   └── 879\n    │   ├── 713\n    │   │   └── 880\n    │   ├── 721\n    │   │   └── 881\n    │   ├── 724\n    │   │   └── 882\n    │   ├── 732\n    │   │   └── 883\n    │   ├── 736\n    │   │   └── 884\n    │   ├── 743\n    │   │   └── 885\n    │   └── 745\n    │       └── 886\n    ├── 212\n    │   ├── 252\n    │   │   └── 887\n    │   ├── 258\n    │   │   └── 888\n    │   ├── 267\n    │   │   └── 889\n    │   ├── 273\n    │   │   └── 890\n    │   ├── 282\n    │   │   └── 891\n    │   ├── 290\n    │   │   └── 892\n    │   ├── 302\n    │   │   └── 893\n    │   ├── 309\n    │   │   └── 894\n    │   ├── 403\n    │   │   ├── 769\n    │   │   └── 976\n    │   ├── 410\n    │   │   └── 895\n    │   ├── 418\n    │   │   └── 896\n    │   ├── 426\n    │   │   └── 897\n    │   ├── 431\n    │   │   └── 898\n    │   ├── 567\n    │   │   └── 899\n    │   ├── 576\n    │   │   ├── 763\n    │   │   └── 970\n    │   ├── 583\n    │   │   └── 900\n    │   ├── 591\n    │   │   ├── 749\n    │   │   ├── 901\n    │   │   └── 1006\n    │   ├── 686\n    │   │   └── 902\n    │   ├── 694\n    │   │   └── 903\n    │   ├── 705\n    │   │   └── 904\n    │   ├── 714\n    │   │   ├── 764\n    │   │   └── 971\n    │   ├── 722\n    │   │   ├── 765\n    │   │   └── 972\n    │   ├── 729\n    │   │   ├── 766\n    │   │   └── 973\n    │   ├── 737\n    │   │   ├── 767\n    │   │   └── 974\n    │   └── 744\n    │       ├── 746\n    │       ├── 768\n    │       ├── 905\n    │       ├── 975\n    │       └── 1010\n    ├── 217\n    │   ├── 259\n    │   │   ├── 750\n    │   │   ├── 906\n    │   │   └── 1007\n    │   ├── 274\n    │   │   ├── 770\n    │   │   └── 977\n    │   ├── 291\n    │   │   ├── 771\n    │   │   └── 978\n    │   ├── 310\n    │   │   ├── 772\n    │   │   └── 979\n    │   ├── 411\n    │   │   └── 907\n    │   ├── 427\n    │   │   ├── 773\n    │   │   └── 980\n    │   ├── 568\n    │   │   ├── 774\n    │   │   └── 981\n    │   ├── 584\n    │   │   ├── 775\n    │   │   └── 982\n    │   ├── 687\n    │   │   ├── 776\n    │   │   └── 983\n    │   ├── 706\n    │   │   ├── 777\n    │   │   └── 984\n    │   ├── 723\n    │   │   ├── 778\n    │   │   └── 985\n    │   └── 738\n    │       └── 908\n    ├── 227\n    │   ├── 254\n    │   │   ├── 779\n    │   │   └── 986\n    │   ├── 268\n    │   │   ├── 780\n    │   │   └── 987\n    │   ├── 277\n    │   │   └── 909\n    │   ├── 292\n    │   │   └── 910\n    │   ├── 306\n    │   │   ├── 781\n    │   │   └── 988\n    │   ├── 404\n    │   │   └── 911\n    │   ├── 416\n    │   │   ├── 782\n    │   │   └── 989\n    │   ├── 429\n    │   │   └── 912\n    │   ├── 565\n    │   │   └── 913\n    │   ├── 578\n    │   │   └── 914\n    │   ├── 590\n    │   │   └── 915\n    │   ├── 690\n    │   │   ├── 783\n    │   │   └── 990\n    │   ├── 704\n    │   │   ├── 751\n    │   │   ├── 916\n    │   │   └── 1008\n    │   ├── 719\n    │   │   ├── 784\n    │   │   └── 991\n    │   ├── 728\n    │   │   ├── 785\n    │   │   └── 992\n    │   └── 742\n    │       ├── 786\n    │       └── 993\n    ├── 231\n    │   ├── 255\n    │   │   └── 917\n    │   ├── 269\n    │   │   └── 918\n    │   ├── 280\n    │   │   └── 919\n    │   ├── 294\n    │   │   ├── 787\n    │   │   └── 994\n    │   ├── 311\n    │   │   ├── 788\n    │   │   └── 995\n    │   ├── 408\n    │   │   ├── 789\n    │   │   └── 996\n    │   ├── 419\n    │   │   ├── 790\n    │   │   └── 997\n    │   ├── 444\n    │   │   ├── 791\n    │   │   └── 998\n    │   ├── 574\n    │   │   ├── 792\n    │   │   └── 999\n    │   ├── 585\n    │   │   └── 920\n    │   ├── 685\n    │   │   └── 921\n    │   ├── 703\n    │   │   └── 922\n    │   ├── 715\n    │   │   ├── 793\n    │   │   └── 1000\n    │   ├── 726\n    │   │   ├── 794\n    │   │   └── 1001\n    │   └── 740\n    │       ├── 795\n    │       └── 1002\n    └── 236\n        └── 445\n            ├── 796\n            └── 1003\n"
     ]
    }
   ],
   "source": [
    "# Create tree of classes\n",
    "\n",
    "def add_nodes(nodes, parent, child):\n",
    "    if parent not in nodes:\n",
    "        nodes[parent] = Node(parent)  \n",
    "    if child not in nodes:\n",
    "        nodes[child] = Node(child)\n",
    "    nodes[child].parent = nodes[parent]\n",
    "\n",
    "\n",
    "nodes = {}  # store references to created nodes \n",
    "# data.apply(lambda x: add_nodes(nodes, x[\"Parent\"], x[\"Child\"]), axis=1)  # 1-liner\n",
    "for parent, child in zip(data[\"Parent\"],data[\"Child\"]):\n",
    "    add_nodes(nodes, parent, child)\n",
    "\n",
    "roots = list(data[~data[\"Parent\"].isin(data[\"Child\"])][\"Parent\"].unique())\n",
    "for root in roots:         # you can skip this for roots[0], if there is no forest and just 1 tree\n",
    "    for pre, _, node in RenderTree(nodes[root]):\n",
    "        print(\"%s%s\" % (pre, node.name))"
   ]
  },
  {
   "source": [
    "## Create version #2 of tree which has text descriptions of classes\n",
    "\n"
   ],
   "cell_type": "markdown",
   "metadata": {}
  },
  {
   "cell_type": "code",
   "execution_count": 6,
   "metadata": {},
   "outputs": [],
   "source": [
    "# Read in class descriptions\n",
    "\n",
    "classes = pd.read_excel('dataset_information.xlsx', sheet_name='classes.txt')"
   ]
  },
  {
   "cell_type": "code",
   "execution_count": 7,
   "metadata": {},
   "outputs": [
    {
     "output_type": "execute_result",
     "data": {
      "text/plain": [
       "      child_class_id                                  class_description\n",
       "0                  1                            Ducks, Geese, and Swans\n",
       "1                  2                          Grouse, Quail, and Allies\n",
       "2                  3                                              Loons\n",
       "3                  4                                             Grebes\n",
       "4                  5                                             Storks\n",
       "...              ...                                                ...\n",
       "1005            1006           Fox Sparrow (Thick-billed/Slate-colored)\n",
       "1006            1007                     Summer Tanager (Immature Male)\n",
       "1007            1008                   Orchard Oriole (Female/Juvenile)\n",
       "1008            1009  Yellow-rumped Warbler (Winter/juvenile Audubon's)\n",
       "1009            1010           Dark-eyed Junco (Red-backed/Gray-headed)\n",
       "\n",
       "[1010 rows x 2 columns]"
      ],
      "text/html": "<div>\n<style scoped>\n    .dataframe tbody tr th:only-of-type {\n        vertical-align: middle;\n    }\n\n    .dataframe tbody tr th {\n        vertical-align: top;\n    }\n\n    .dataframe thead th {\n        text-align: right;\n    }\n</style>\n<table border=\"1\" class=\"dataframe\">\n  <thead>\n    <tr style=\"text-align: right;\">\n      <th></th>\n      <th>child_class_id</th>\n      <th>class_description</th>\n    </tr>\n  </thead>\n  <tbody>\n    <tr>\n      <th>0</th>\n      <td>1</td>\n      <td>Ducks, Geese, and Swans</td>\n    </tr>\n    <tr>\n      <th>1</th>\n      <td>2</td>\n      <td>Grouse, Quail, and Allies</td>\n    </tr>\n    <tr>\n      <th>2</th>\n      <td>3</td>\n      <td>Loons</td>\n    </tr>\n    <tr>\n      <th>3</th>\n      <td>4</td>\n      <td>Grebes</td>\n    </tr>\n    <tr>\n      <th>4</th>\n      <td>5</td>\n      <td>Storks</td>\n    </tr>\n    <tr>\n      <th>...</th>\n      <td>...</td>\n      <td>...</td>\n    </tr>\n    <tr>\n      <th>1005</th>\n      <td>1006</td>\n      <td>Fox Sparrow (Thick-billed/Slate-colored)</td>\n    </tr>\n    <tr>\n      <th>1006</th>\n      <td>1007</td>\n      <td>Summer Tanager (Immature Male)</td>\n    </tr>\n    <tr>\n      <th>1007</th>\n      <td>1008</td>\n      <td>Orchard Oriole (Female/Juvenile)</td>\n    </tr>\n    <tr>\n      <th>1008</th>\n      <td>1009</td>\n      <td>Yellow-rumped Warbler (Winter/juvenile Audubon's)</td>\n    </tr>\n    <tr>\n      <th>1009</th>\n      <td>1010</td>\n      <td>Dark-eyed Junco (Red-backed/Gray-headed)</td>\n    </tr>\n  </tbody>\n</table>\n<p>1010 rows × 2 columns</p>\n</div>"
     },
     "metadata": {},
     "execution_count": 7
    }
   ],
   "source": [
    "# Inspect classes.txt \n",
    "\n",
    "classes"
   ]
  },
  {
   "cell_type": "code",
   "execution_count": 8,
   "metadata": {},
   "outputs": [],
   "source": [
    "# Add column to classes to ensure unique nodes\n",
    "\n",
    "classes['tree_description'] = '(' + classes['child_class_id'].astype(str) + ') ' + classes['class_description']"
   ]
  },
  {
   "cell_type": "code",
   "execution_count": 9,
   "metadata": {},
   "outputs": [
    {
     "output_type": "execute_result",
     "data": {
      "text/plain": [
       "      child_class_id                                  class_description  \\\n",
       "0                  1                            Ducks, Geese, and Swans   \n",
       "1                  2                          Grouse, Quail, and Allies   \n",
       "2                  3                                              Loons   \n",
       "3                  4                                             Grebes   \n",
       "4                  5                                             Storks   \n",
       "...              ...                                                ...   \n",
       "1005            1006           Fox Sparrow (Thick-billed/Slate-colored)   \n",
       "1006            1007                     Summer Tanager (Immature Male)   \n",
       "1007            1008                   Orchard Oriole (Female/Juvenile)   \n",
       "1008            1009  Yellow-rumped Warbler (Winter/juvenile Audubon's)   \n",
       "1009            1010           Dark-eyed Junco (Red-backed/Gray-headed)   \n",
       "\n",
       "                                       tree_description  \n",
       "0                           (1) Ducks, Geese, and Swans  \n",
       "1                         (2) Grouse, Quail, and Allies  \n",
       "2                                             (3) Loons  \n",
       "3                                            (4) Grebes  \n",
       "4                                            (5) Storks  \n",
       "...                                                 ...  \n",
       "1005    (1006) Fox Sparrow (Thick-billed/Slate-colored)  \n",
       "1006              (1007) Summer Tanager (Immature Male)  \n",
       "1007            (1008) Orchard Oriole (Female/Juvenile)  \n",
       "1008  (1009) Yellow-rumped Warbler (Winter/juvenile ...  \n",
       "1009    (1010) Dark-eyed Junco (Red-backed/Gray-headed)  \n",
       "\n",
       "[1010 rows x 3 columns]"
      ],
      "text/html": "<div>\n<style scoped>\n    .dataframe tbody tr th:only-of-type {\n        vertical-align: middle;\n    }\n\n    .dataframe tbody tr th {\n        vertical-align: top;\n    }\n\n    .dataframe thead th {\n        text-align: right;\n    }\n</style>\n<table border=\"1\" class=\"dataframe\">\n  <thead>\n    <tr style=\"text-align: right;\">\n      <th></th>\n      <th>child_class_id</th>\n      <th>class_description</th>\n      <th>tree_description</th>\n    </tr>\n  </thead>\n  <tbody>\n    <tr>\n      <th>0</th>\n      <td>1</td>\n      <td>Ducks, Geese, and Swans</td>\n      <td>(1) Ducks, Geese, and Swans</td>\n    </tr>\n    <tr>\n      <th>1</th>\n      <td>2</td>\n      <td>Grouse, Quail, and Allies</td>\n      <td>(2) Grouse, Quail, and Allies</td>\n    </tr>\n    <tr>\n      <th>2</th>\n      <td>3</td>\n      <td>Loons</td>\n      <td>(3) Loons</td>\n    </tr>\n    <tr>\n      <th>3</th>\n      <td>4</td>\n      <td>Grebes</td>\n      <td>(4) Grebes</td>\n    </tr>\n    <tr>\n      <th>4</th>\n      <td>5</td>\n      <td>Storks</td>\n      <td>(5) Storks</td>\n    </tr>\n    <tr>\n      <th>...</th>\n      <td>...</td>\n      <td>...</td>\n      <td>...</td>\n    </tr>\n    <tr>\n      <th>1005</th>\n      <td>1006</td>\n      <td>Fox Sparrow (Thick-billed/Slate-colored)</td>\n      <td>(1006) Fox Sparrow (Thick-billed/Slate-colored)</td>\n    </tr>\n    <tr>\n      <th>1006</th>\n      <td>1007</td>\n      <td>Summer Tanager (Immature Male)</td>\n      <td>(1007) Summer Tanager (Immature Male)</td>\n    </tr>\n    <tr>\n      <th>1007</th>\n      <td>1008</td>\n      <td>Orchard Oriole (Female/Juvenile)</td>\n      <td>(1008) Orchard Oriole (Female/Juvenile)</td>\n    </tr>\n    <tr>\n      <th>1008</th>\n      <td>1009</td>\n      <td>Yellow-rumped Warbler (Winter/juvenile Audubon's)</td>\n      <td>(1009) Yellow-rumped Warbler (Winter/juvenile ...</td>\n    </tr>\n    <tr>\n      <th>1009</th>\n      <td>1010</td>\n      <td>Dark-eyed Junco (Red-backed/Gray-headed)</td>\n      <td>(1010) Dark-eyed Junco (Red-backed/Gray-headed)</td>\n    </tr>\n  </tbody>\n</table>\n<p>1010 rows × 3 columns</p>\n</div>"
     },
     "metadata": {},
     "execution_count": 9
    }
   ],
   "source": [
    "# Inspect dataframe after adding tree_description\n",
    "\n",
    "classes"
   ]
  },
  {
   "cell_type": "code",
   "execution_count": 10,
   "metadata": {},
   "outputs": [],
   "source": [
    "# Create dict for mapping descriptions to class IDs\n",
    "\n",
    "class_dict = pd.Series(classes['tree_description'].values,index=classes['child_class_id']).to_dict()"
   ]
  },
  {
   "cell_type": "code",
   "execution_count": 11,
   "metadata": {},
   "outputs": [],
   "source": [
    "# Create copy of original data frame \n",
    "data_text = data.copy()"
   ]
  },
  {
   "cell_type": "code",
   "execution_count": 12,
   "metadata": {},
   "outputs": [],
   "source": [
    "# Map descriptions to classes\n",
    "\n",
    "data_text['Parent'].replace(to_replace=class_dict, inplace=True)\n",
    "data_text['Child'].replace(to_replace=class_dict, inplace=True)"
   ]
  },
  {
   "cell_type": "code",
   "execution_count": 20,
   "metadata": {
    "tags": []
   },
   "outputs": [],
   "source": [
    "# Create tree with descriptions and write to 'tree.txt'\n",
    "\n",
    "nodes = {}  # store references to created nodes \n",
    "# data.apply(lambda x: add_nodes(nodes, x[\"Parent\"], x[\"Child\"]), axis=1)  # 1-liner\n",
    "for parent, child in zip(data_text[\"Parent\"],data_text[\"Child\"]):\n",
    "    add_nodes(nodes, parent, child)\n",
    "\n",
    "roots = list(data_text[~data_text[\"Parent\"].isin(data_text[\"Child\"])][\"Parent\"].unique())\n",
    "with open('tree.txt', 'w', encoding='utf-8') as f:\n",
    "    for root in roots:         # you can skip this for roots[0], if there is no forest and just 1 tree\n",
    "       for pre, _, node in RenderTree(nodes[root]):\n",
    "           print(\"%s%s\" % (pre, node.name), file=f)"
   ]
  }
 ]
}